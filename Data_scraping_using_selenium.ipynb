{
 "cells": [
  {
   "cell_type": "code",
   "execution_count": 14,
   "id": "0ea43e46",
   "metadata": {},
   "outputs": [],
   "source": [
    "from selenium import webdriver\n",
    "from webdriver_manager.chrome import ChromeDriverManager \n",
    "from selenium.webdriver.common.by import By"
   ]
  },
  {
   "cell_type": "code",
   "execution_count": 144,
   "id": "0acb5bf3",
   "metadata": {},
   "outputs": [],
   "source": [
    "driver = webdriver.Chrome(r\"C:\\Users\\manto\\.wdm\\drivers\\chromedriver\\win32\\94.0.4606.61\\chromedriver.exe\")\n"
   ]
  },
  {
   "cell_type": "code",
   "execution_count": null,
   "id": "957f2e82-fe91-46ee-8539-ea116c539762",
   "metadata": {},
   "outputs": [],
   "source": []
  },
  {
   "cell_type": "code",
   "execution_count": 126,
   "id": "8ea27a75",
   "metadata": {},
   "outputs": [],
   "source": [
    "driver.maximize_window()"
   ]
  },
  {
   "cell_type": "code",
   "execution_count": 145,
   "id": "5410f1ff",
   "metadata": {},
   "outputs": [],
   "source": [
    "driver.get(\"https://www.amazon.in/\")\n",
    "driver.implicitly_wait(10)"
   ]
  },
  {
   "cell_type": "code",
   "execution_count": 146,
   "id": "ef5b899d-6124-44f7-bb74-b1e3c0416688",
   "metadata": {},
   "outputs": [],
   "source": [
    "driver.find_element(By.XPATH, \"// input[ contains(@id, 'search')]\").send_keys(\"Phones above 15000\")"
   ]
  },
  {
   "cell_type": "code",
   "execution_count": 147,
   "id": "574d623e-8565-4194-be87-d65067a64bb4",
   "metadata": {},
   "outputs": [],
   "source": [
    "driver.find_element(By.XPATH, \"//input[ contains (@value, 'Go')]\").click()\n",
    "driver.find_element(By.XPATH, \"//i[contains(@class, 'a-icon a-icon-checkbox')]\").click()"
   ]
  },
  {
   "cell_type": "code",
   "execution_count": 114,
   "id": "0a90ecec-c81c-426a-b9c6-711dbd50a0a8",
   "metadata": {},
   "outputs": [
    {
     "data": {
      "text/plain": [
       "29"
      ]
     },
     "execution_count": 114,
     "metadata": {},
     "output_type": "execute_result"
    }
   ],
   "source": [
    "\n",
    "phone=[]\n",
    "price=[]\n",
    "number= []\n"
   ]
  },
  {
   "cell_type": "code",
   "execution_count": 148,
   "id": "09f4f65f-805d-487c-bc47-940ac1d353a6",
   "metadata": {},
   "outputs": [],
   "source": [
    "for i in range(5):\n",
    "\n",
    "    phone_names = driver.find_elements(By.XPATH, \"//span[ contains (@class, ' a-color-base a-text-normal')]\")\n",
    "    phone_prices = driver.find_elements(By.XPATH ,  \"//span[ contains (@class, 'a-price-whole')]\")\n",
    "    no_of_purchase = driver.find_elements(By.XPATH, \"//span[contains (@class, 'a-size-base')]\")\n",
    "    l=[item.text for item in phone_names]\n",
    "    phone.append(l)\n",
    "    l=[item.text for item in phone_prices]\n",
    "    price.append(l)\n",
    "    l=[item.text for item in no_of_purchase]\n",
    "    number.append(l)\n",
    "    driver.find_element(By.XPATH, \"//li[contains(@class, 'a-last')]\").click()\n"
   ]
  },
  {
   "cell_type": "code",
   "execution_count": 149,
   "id": "dfa3c12b-4d3b-420b-a404-af45607ba80d",
   "metadata": {},
   "outputs": [],
   "source": [
    "l=[]\n",
    "for i in range(5):\n",
    "    final_list= zip(phone[i], price[i], number[i])\n",
    "    l+=list(final_list)\n",
    "len(l)"
   ]
  },
  {
   "cell_type": "code",
   "execution_count": 150,
   "id": "cea32e3d-020e-4712-a7a6-6f63368bc350",
   "metadata": {},
   "outputs": [],
   "source": [
    "from openpyxl import Workbook"
   ]
  },
  {
   "cell_type": "code",
   "execution_count": 199,
   "id": "d5d796a4-eb71-4bd4-85cf-d787cc7fa249",
   "metadata": {},
   "outputs": [],
   "source": [
    "wb= Workbook()\n",
    "sh1=wb.active"
   ]
  },
  {
   "cell_type": "code",
   "execution_count": 200,
   "id": "35fcc042-c4d4-49d7-ac54-c5cbef7f8c80",
   "metadata": {},
   "outputs": [],
   "source": [
    "for x in l:\n",
    "    sh1.append(x)\n",
    "wb.save(\"Amazon_all_data.xlsx\")"
   ]
  },
  {
   "cell_type": "code",
   "execution_count": 206,
   "id": "21d21d20-a05a-45bd-aa51-97d4b7c7a0bc",
   "metadata": {},
   "outputs": [
    {
     "data": {
      "text/plain": [
       "43"
      ]
     },
     "execution_count": 206,
     "metadata": {},
     "output_type": "execute_result"
    }
   ],
   "source": [
    "wb.close()"
   ]
  },
  {
   "cell_type": "code",
   "execution_count": 196,
   "id": "0adef93c-d17b-44a4-8039-01104e11d60c",
   "metadata": {},
   "outputs": [],
   "source": []
  },
  {
   "cell_type": "code",
   "execution_count": 197,
   "id": "c45b4ffe-9e7c-4b55-b6ea-6813f1ff3b2b",
   "metadata": {},
   "outputs": [],
   "source": []
  },
  {
   "cell_type": "code",
   "execution_count": 202,
   "id": "c9ebbba4-c677-4def-8809-618aeb97a78a",
   "metadata": {},
   "outputs": [],
   "source": []
  },
  {
   "cell_type": "code",
   "execution_count": 204,
   "id": "a229c05a-ecc7-4d17-acef-fc0ce8b8f4da",
   "metadata": {},
   "outputs": [],
   "source": []
  },
  {
   "cell_type": "raw",
   "id": "dfb599ee-75cd-4e44-8c62-e3dd839c42cc",
   "metadata": {},
   "source": []
  },
  {
   "cell_type": "code",
   "execution_count": 205,
   "id": "343dada9-9bb5-4be4-9255-709e07854641",
   "metadata": {},
   "outputs": [],
   "source": []
  },
  {
   "cell_type": "code",
   "execution_count": 143,
   "id": "a5981143-80a3-4f79-89e2-6787bf11cccf",
   "metadata": {},
   "outputs": [],
   "source": []
  },
  {
   "cell_type": "code",
   "execution_count": null,
   "id": "86485649-6abd-4c0a-bee5-d35484628135",
   "metadata": {},
   "outputs": [],
   "source": []
  },
  {
   "cell_type": "code",
   "execution_count": null,
   "id": "0f310959-5eea-457f-b7bd-4e4f363c3c9c",
   "metadata": {},
   "outputs": [],
   "source": []
  }
 ],
 "metadata": {
  "kernelspec": {
   "display_name": "Python 3",
   "language": "python",
   "name": "python3"
  },
  "language_info": {
   "codemirror_mode": {
    "name": "ipython",
    "version": 3
   },
   "file_extension": ".py",
   "mimetype": "text/x-python",
   "name": "python",
   "nbconvert_exporter": "python",
   "pygments_lexer": "ipython3",
   "version": "3.8.8"
  }
 },
 "nbformat": 4,
 "nbformat_minor": 5
}
