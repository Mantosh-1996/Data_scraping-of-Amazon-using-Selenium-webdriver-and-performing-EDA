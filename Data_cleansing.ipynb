{
 "cells": [
  {
   "cell_type": "code",
   "execution_count": 1,
   "id": "98631e33",
   "metadata": {},
   "outputs": [],
   "source": [
    "import pandas as pd\n",
    "import numpy as np\n",
    "import matplotlib.pyplot as plt\n",
    "import seaborn as sns"
   ]
  },
  {
   "cell_type": "code",
   "execution_count": 2,
   "id": "4d406409",
   "metadata": {},
   "outputs": [],
   "source": [
    "df=pd.read_excel(\"Amazon_all_data.xlsx\")"
   ]
  },
  {
   "cell_type": "code",
   "execution_count": 3,
   "id": "64280795",
   "metadata": {},
   "outputs": [
    {
     "data": {
      "text/html": [
       "<div>\n",
       "<style scoped>\n",
       "    .dataframe tbody tr th:only-of-type {\n",
       "        vertical-align: middle;\n",
       "    }\n",
       "\n",
       "    .dataframe tbody tr th {\n",
       "        vertical-align: top;\n",
       "    }\n",
       "\n",
       "    .dataframe thead th {\n",
       "        text-align: right;\n",
       "    }\n",
       "</style>\n",
       "<table border=\"1\" class=\"dataframe\">\n",
       "  <thead>\n",
       "    <tr style=\"text-align: right;\">\n",
       "      <th></th>\n",
       "      <th>Phone_Names</th>\n",
       "      <th>Price</th>\n",
       "      <th>No_of_buyers</th>\n",
       "    </tr>\n",
       "  </thead>\n",
       "  <tbody>\n",
       "    <tr>\n",
       "      <th>0</th>\n",
       "      <td>Mi 11X 5G Cosmic Black 6GB RAM 128GB ROM | SD ...</td>\n",
       "      <td>27,999</td>\n",
       "      <td>11,617</td>\n",
       "    </tr>\n",
       "    <tr>\n",
       "      <th>1</th>\n",
       "      <td>Samsung Galaxy M32 5G (Sky Blue, 8GB RAM, 128G...</td>\n",
       "      <td>18,999</td>\n",
       "      <td>More Buying Choices</td>\n",
       "    </tr>\n",
       "    <tr>\n",
       "      <th>2</th>\n",
       "      <td>Vivo Y73 (Diamond Flare, 8GB RAM, 128GB Storag...</td>\n",
       "      <td>20,990</td>\n",
       "      <td>1,410</td>\n",
       "    </tr>\n",
       "    <tr>\n",
       "      <th>3</th>\n",
       "      <td>Vivo Y33s (Mirror Black, 8GB RAM, 128GB Storag...</td>\n",
       "      <td>18,990</td>\n",
       "      <td>293</td>\n",
       "    </tr>\n",
       "    <tr>\n",
       "      <th>4</th>\n",
       "      <td>Vivo Y72 5G (Prism Magic, 8GB RAM, 128GB Stora...</td>\n",
       "      <td>20,990</td>\n",
       "      <td>193</td>\n",
       "    </tr>\n",
       "  </tbody>\n",
       "</table>\n",
       "</div>"
      ],
      "text/plain": [
       "                                         Phone_Names   Price  \\\n",
       "0  Mi 11X 5G Cosmic Black 6GB RAM 128GB ROM | SD ...  27,999   \n",
       "1  Samsung Galaxy M32 5G (Sky Blue, 8GB RAM, 128G...  18,999   \n",
       "2  Vivo Y73 (Diamond Flare, 8GB RAM, 128GB Storag...  20,990   \n",
       "3  Vivo Y33s (Mirror Black, 8GB RAM, 128GB Storag...  18,990   \n",
       "4  Vivo Y72 5G (Prism Magic, 8GB RAM, 128GB Stora...  20,990   \n",
       "\n",
       "          No_of_buyers  \n",
       "0               11,617  \n",
       "1  More Buying Choices  \n",
       "2                1,410  \n",
       "3                  293  \n",
       "4                  193  "
      ]
     },
     "execution_count": 3,
     "metadata": {},
     "output_type": "execute_result"
    }
   ],
   "source": [
    "df.head()"
   ]
  },
  {
   "cell_type": "code",
   "execution_count": 4,
   "id": "2588fc8d",
   "metadata": {},
   "outputs": [
    {
     "name": "stdout",
     "output_type": "stream",
     "text": [
      "<class 'pandas.core.frame.DataFrame'>\n",
      "RangeIndex: 43 entries, 0 to 42\n",
      "Data columns (total 3 columns):\n",
      " #   Column        Non-Null Count  Dtype \n",
      "---  ------        --------------  ----- \n",
      " 0   Phone_Names   43 non-null     object\n",
      " 1   Price         43 non-null     object\n",
      " 2   No_of_buyers  43 non-null     object\n",
      "dtypes: object(3)\n",
      "memory usage: 1.1+ KB\n"
     ]
    }
   ],
   "source": [
    "df.info()"
   ]
  },
  {
   "cell_type": "code",
   "execution_count": 5,
   "id": "5bc14116",
   "metadata": {},
   "outputs": [
    {
     "data": {
      "text/plain": [
       "More Buying Choices      6\n",
       "934                      5\n",
       "11,617                   4\n",
       "1,410                    3\n",
       "36,819                   3\n",
       "12,519                   2\n",
       "70                       2\n",
       "4                        2\n",
       "32,083                   1\n",
       "Save ₹1,000              1\n",
       "51,971                   1\n",
       "193                      1\n",
       "319                      1\n",
       "5,893                    1\n",
       "Only 1 left in stock.    1\n",
       "51                       1\n",
       "5                        1\n",
       "66                       1\n",
       "747                      1\n",
       "8                        1\n",
       "293                      1\n",
       "2                        1\n",
       "29,006                   1\n",
       "397                      1\n",
       "Name: No_of_buyers, dtype: int64"
      ]
     },
     "execution_count": 5,
     "metadata": {},
     "output_type": "execute_result"
    }
   ],
   "source": [
    "df.No_of_buyers.value_counts()"
   ]
  },
  {
   "cell_type": "code",
   "execution_count": 6,
   "id": "62fe3b14",
   "metadata": {},
   "outputs": [
    {
     "data": {
      "text/plain": [
       "Phone_Names     0\n",
       "Price           0\n",
       "No_of_buyers    0\n",
       "dtype: int64"
      ]
     },
     "execution_count": 6,
     "metadata": {},
     "output_type": "execute_result"
    }
   ],
   "source": [
    "df.isnull().sum()"
   ]
  },
  {
   "cell_type": "code",
   "execution_count": 7,
   "id": "fdc667de",
   "metadata": {},
   "outputs": [],
   "source": [
    "df.loc[df[\"No_of_buyers\"]==\"More Buying Choices\"]='0'\n",
    "df.loc[df[\"No_of_buyers\"]==\"Save ₹1,000\"]='0'\n",
    "df.loc[df[\"No_of_buyers\"]==\"Only 1 left in stock.\"]='0'\n",
    "\n"
   ]
  },
  {
   "cell_type": "code",
   "execution_count": 8,
   "id": "abdb070c",
   "metadata": {},
   "outputs": [
    {
     "data": {
      "text/plain": [
       "0         8\n",
       "934       5\n",
       "11,617    4\n",
       "1,410     3\n",
       "36,819    3\n",
       "12,519    2\n",
       "4         2\n",
       "70        2\n",
       "51        1\n",
       "51,971    1\n",
       "193       1\n",
       "319       1\n",
       "32,083    1\n",
       "5         1\n",
       "5,893     1\n",
       "66        1\n",
       "747       1\n",
       "8         1\n",
       "293       1\n",
       "2         1\n",
       "29,006    1\n",
       "397       1\n",
       "Name: No_of_buyers, dtype: int64"
      ]
     },
     "execution_count": 8,
     "metadata": {},
     "output_type": "execute_result"
    }
   ],
   "source": [
    "df.No_of_buyers.value_counts()"
   ]
  },
  {
   "cell_type": "code",
   "execution_count": 9,
   "id": "e6cb0428",
   "metadata": {},
   "outputs": [
    {
     "data": {
      "text/plain": [
       "0"
      ]
     },
     "execution_count": 9,
     "metadata": {},
     "output_type": "execute_result"
    }
   ],
   "source": [
    "df.No_of_buyers.isnull().sum()"
   ]
  },
  {
   "cell_type": "code",
   "execution_count": 10,
   "id": "adefb2cd",
   "metadata": {},
   "outputs": [],
   "source": [
    "df[\"No_of_buyers\"]= df['No_of_buyers'].apply(lambda x: int(x.replace(',','')) if ',' in x else int(x))"
   ]
  },
  {
   "cell_type": "code",
   "execution_count": 11,
   "id": "c26be8c2",
   "metadata": {},
   "outputs": [
    {
     "data": {
      "text/plain": [
       "count       43.000000\n",
       "mean      7256.860465\n",
       "std      13159.625656\n",
       "min          0.000000\n",
       "25%          4.500000\n",
       "50%        747.000000\n",
       "75%      11617.000000\n",
       "max      51971.000000\n",
       "Name: No_of_buyers, dtype: float64"
      ]
     },
     "execution_count": 11,
     "metadata": {},
     "output_type": "execute_result"
    }
   ],
   "source": [
    "df.No_of_buyers.describe()"
   ]
  },
  {
   "cell_type": "code",
   "execution_count": null,
   "id": "e8c0e3d1",
   "metadata": {},
   "outputs": [],
   "source": []
  },
  {
   "cell_type": "code",
   "execution_count": null,
   "id": "ab6977f4",
   "metadata": {},
   "outputs": [],
   "source": []
  },
  {
   "cell_type": "code",
   "execution_count": null,
   "id": "664facc6",
   "metadata": {},
   "outputs": [],
   "source": []
  },
  {
   "cell_type": "code",
   "execution_count": 12,
   "id": "d76222e7",
   "metadata": {},
   "outputs": [
    {
     "data": {
      "text/plain": [
       "0         8\n",
       "27,999    3\n",
       "32,999    3\n",
       "15,490    2\n",
       "37,999    2\n",
       "15,499    2\n",
       "34,999    2\n",
       "16,999    2\n",
       "28,999    2\n",
       "21,999    2\n",
       "20,990    2\n",
       "39,536    1\n",
       "59,999    1\n",
       "24,999    1\n",
       "55,999    1\n",
       "40,999    1\n",
       "24,843    1\n",
       "29,990    1\n",
       "60,999    1\n",
       "54,900    1\n",
       "18,990    1\n",
       "19,490    1\n",
       "32,499    1\n",
       "24,990    1\n",
       "Name: Price, dtype: int64"
      ]
     },
     "execution_count": 12,
     "metadata": {},
     "output_type": "execute_result"
    }
   ],
   "source": [
    "df[\"Price\"].value_counts()"
   ]
  },
  {
   "cell_type": "code",
   "execution_count": 13,
   "id": "f3c726ed",
   "metadata": {},
   "outputs": [],
   "source": [
    "df[\"Price\"]= df['Price'].apply(lambda x: str(x))\n",
    "df[\"Price\"]= df['Price'].apply(lambda x: int(x.replace(',','')) if ',' in x else int(x))"
   ]
  },
  {
   "cell_type": "code",
   "execution_count": 14,
   "id": "3af73bb5",
   "metadata": {},
   "outputs": [
    {
     "data": {
      "text/plain": [
       "0        8\n",
       "32999    3\n",
       "27999    3\n",
       "28999    2\n",
       "15499    2\n",
       "20990    2\n",
       "34999    2\n",
       "16999    2\n",
       "37999    2\n",
       "15490    2\n",
       "21999    2\n",
       "24843    1\n",
       "60999    1\n",
       "24999    1\n",
       "54900    1\n",
       "32499    1\n",
       "59999    1\n",
       "39536    1\n",
       "18990    1\n",
       "40999    1\n",
       "29990    1\n",
       "19490    1\n",
       "24990    1\n",
       "55999    1\n",
       "Name: Price, dtype: int64"
      ]
     },
     "execution_count": 14,
     "metadata": {},
     "output_type": "execute_result"
    }
   ],
   "source": [
    "df[\"Price\"].value_counts()"
   ]
  },
  {
   "cell_type": "code",
   "execution_count": 15,
   "id": "1ff3a67e",
   "metadata": {},
   "outputs": [
    {
     "data": {
      "text/plain": [
       "0"
      ]
     },
     "execution_count": 15,
     "metadata": {},
     "output_type": "execute_result"
    }
   ],
   "source": [
    "df.Price.isnull().sum()"
   ]
  },
  {
   "cell_type": "code",
   "execution_count": 16,
   "id": "7161b409",
   "metadata": {},
   "outputs": [
    {
     "data": {
      "text/plain": [
       "count       43.000000\n",
       "mean      7256.860465\n",
       "std      13159.625656\n",
       "min          0.000000\n",
       "25%          4.500000\n",
       "50%        747.000000\n",
       "75%      11617.000000\n",
       "max      51971.000000\n",
       "Name: No_of_buyers, dtype: float64"
      ]
     },
     "execution_count": 16,
     "metadata": {},
     "output_type": "execute_result"
    }
   ],
   "source": [
    "df.No_of_buyers.describe()"
   ]
  },
  {
   "cell_type": "code",
   "execution_count": 17,
   "id": "f6224152",
   "metadata": {},
   "outputs": [
    {
     "data": {
      "text/plain": [
       "count     43\n",
       "unique    36\n",
       "top        0\n",
       "freq       8\n",
       "Name: Phone_Names, dtype: object"
      ]
     },
     "execution_count": 17,
     "metadata": {},
     "output_type": "execute_result"
    }
   ],
   "source": [
    "df.Phone_Names.describe()"
   ]
  },
  {
   "cell_type": "code",
   "execution_count": 18,
   "id": "c0ec22cf",
   "metadata": {},
   "outputs": [
    {
     "data": {
      "text/html": [
       "<div>\n",
       "<style scoped>\n",
       "    .dataframe tbody tr th:only-of-type {\n",
       "        vertical-align: middle;\n",
       "    }\n",
       "\n",
       "    .dataframe tbody tr th {\n",
       "        vertical-align: top;\n",
       "    }\n",
       "\n",
       "    .dataframe thead th {\n",
       "        text-align: right;\n",
       "    }\n",
       "</style>\n",
       "<table border=\"1\" class=\"dataframe\">\n",
       "  <thead>\n",
       "    <tr style=\"text-align: right;\">\n",
       "      <th></th>\n",
       "      <th>Phone_Names</th>\n",
       "      <th>Price</th>\n",
       "      <th>No_of_buyers</th>\n",
       "    </tr>\n",
       "  </thead>\n",
       "  <tbody>\n",
       "    <tr>\n",
       "      <th>1</th>\n",
       "      <td>0</td>\n",
       "      <td>0</td>\n",
       "      <td>0</td>\n",
       "    </tr>\n",
       "    <tr>\n",
       "      <th>13</th>\n",
       "      <td>0</td>\n",
       "      <td>0</td>\n",
       "      <td>0</td>\n",
       "    </tr>\n",
       "    <tr>\n",
       "      <th>24</th>\n",
       "      <td>0</td>\n",
       "      <td>0</td>\n",
       "      <td>0</td>\n",
       "    </tr>\n",
       "    <tr>\n",
       "      <th>27</th>\n",
       "      <td>0</td>\n",
       "      <td>0</td>\n",
       "      <td>0</td>\n",
       "    </tr>\n",
       "    <tr>\n",
       "      <th>30</th>\n",
       "      <td>0</td>\n",
       "      <td>0</td>\n",
       "      <td>0</td>\n",
       "    </tr>\n",
       "    <tr>\n",
       "      <th>32</th>\n",
       "      <td>0</td>\n",
       "      <td>0</td>\n",
       "      <td>0</td>\n",
       "    </tr>\n",
       "    <tr>\n",
       "      <th>34</th>\n",
       "      <td>0</td>\n",
       "      <td>0</td>\n",
       "      <td>0</td>\n",
       "    </tr>\n",
       "    <tr>\n",
       "      <th>35</th>\n",
       "      <td>0</td>\n",
       "      <td>0</td>\n",
       "      <td>0</td>\n",
       "    </tr>\n",
       "  </tbody>\n",
       "</table>\n",
       "</div>"
      ],
      "text/plain": [
       "   Phone_Names  Price  No_of_buyers\n",
       "1            0      0             0\n",
       "13           0      0             0\n",
       "24           0      0             0\n",
       "27           0      0             0\n",
       "30           0      0             0\n",
       "32           0      0             0\n",
       "34           0      0             0\n",
       "35           0      0             0"
      ]
     },
     "execution_count": 18,
     "metadata": {},
     "output_type": "execute_result"
    }
   ],
   "source": [
    "df[df[\"Phone_Names\"]=='0']"
   ]
  },
  {
   "cell_type": "code",
   "execution_count": 19,
   "id": "13a6da9a",
   "metadata": {},
   "outputs": [],
   "source": [
    "df= df[~(df[\"Phone_Names\"]=='0')]"
   ]
  },
  {
   "cell_type": "code",
   "execution_count": 20,
   "id": "17ff3734",
   "metadata": {},
   "outputs": [
    {
     "data": {
      "text/plain": [
       "count                                                    35\n",
       "unique                                                   35\n",
       "top       (Renewed) OnePlus 9 Pro 5G (Stellar Black, 8GB...\n",
       "freq                                                      1\n",
       "Name: Phone_Names, dtype: object"
      ]
     },
     "execution_count": 20,
     "metadata": {},
     "output_type": "execute_result"
    }
   ],
   "source": [
    "df.Phone_Names.describe()"
   ]
  },
  {
   "cell_type": "code",
   "execution_count": 21,
   "id": "4edf8fbf",
   "metadata": {},
   "outputs": [
    {
     "data": {
      "text/plain": [
       "0     Mi 11X 5G Cosmic Black 6GB RAM 128GB ROM | SD ...\n",
       "2     Vivo Y73 (Diamond Flare, 8GB RAM, 128GB Storag...\n",
       "3     Vivo Y33s (Mirror Black, 8GB RAM, 128GB Storag...\n",
       "4     Vivo Y72 5G (Prism Magic, 8GB RAM, 128GB Stora...\n",
       "5     Vivo Y21 (Midnight Blue, 4GB RAM, 128GB Storag...\n",
       "6     Samsung Galaxy M32 5G (Sky Blue, 6GB RAM, 128G...\n",
       "7     Samsung Galaxy M32 5G (Slate Black, 6GB RAM, 1...\n",
       "8     Vivo Y21 (Diamond Glow, 4GB RAM, 128GB Storage...\n",
       "9     OnePlus Nord CE 5G (Blue Void, 8GB RAM, 128GB ...\n",
       "10    Vivo V21e 5G (Sunset Jazz, 8GB RAM, 128GB Stor...\n",
       "11    OnePlus Nord 2 5G (Green Woods, 12GB RAM, 256G...\n",
       "12    Samsung Galaxy A22 5G (Gray, 8GB RAM, 128GB St...\n",
       "14                       Apple iPhone 11 (64GB) - Black\n",
       "15    iQOO 7 5G (Storm Black, 8GB RAM, 128GB Storage...\n",
       "16    Vivo Y53s (Deap Sea Blue, 8GB RAM, 128GB Stora...\n",
       "17    Mi 11X 5G (Lunar White 8GB RAM 128GB ROM | SD ...\n",
       "18    Samsung Galaxy A12 (Blue, 6GB RAM, 128GB Stora...\n",
       "19                       Apple iPhone XR (64GB) - White\n",
       "20                       Apple iPhone XR (64GB) - Black\n",
       "21                      Apple iPhone XR (128GB) - White\n",
       "Name: Phone_Names, dtype: object"
      ]
     },
     "execution_count": 21,
     "metadata": {},
     "output_type": "execute_result"
    }
   ],
   "source": [
    "df.Phone_Names.iloc[:20]"
   ]
  },
  {
   "cell_type": "code",
   "execution_count": 22,
   "id": "4d1c805b",
   "metadata": {},
   "outputs": [],
   "source": [
    "def x(item):\n",
    "    s= '_'\n",
    "    a=[]\n",
    "    lis=item.split()\n",
    "    for l in lis:\n",
    "        if 'GB' in l:\n",
    "            a.append(l)\n",
    "    s=s.join(a)\n",
    "    return s"
   ]
  },
  {
   "cell_type": "code",
   "execution_count": 23,
   "id": "9553d458",
   "metadata": {},
   "outputs": [],
   "source": [
    "df[\"Phone_features\"]= df[\"Phone_Names\"].apply(x)        "
   ]
  },
  {
   "cell_type": "code",
   "execution_count": 24,
   "id": "5fdb9830",
   "metadata": {},
   "outputs": [
    {
     "data": {
      "text/plain": [
       "0         6GB_128GB\n",
       "2         8GB_128GB\n",
       "3         8GB_128GB\n",
       "4         8GB_128GB\n",
       "5         4GB_128GB\n",
       "6         6GB_128GB\n",
       "7         6GB_128GB\n",
       "8         4GB_128GB\n",
       "9         8GB_128GB\n",
       "10        8GB_128GB\n",
       "11       12GB_256GB\n",
       "12        8GB_128GB\n",
       "14           (64GB)\n",
       "15    8GB_128GB_3GB\n",
       "16        8GB_128GB\n",
       "17        8GB_128GB\n",
       "18        6GB_128GB\n",
       "19           (64GB)\n",
       "20           (64GB)\n",
       "21          (128GB)\n",
       "22          (128GB)\n",
       "23        8GB_128GB\n",
       "25          (128GB)\n",
       "26       12GB_256GB\n",
       "28        6GB_128GB\n",
       "29        6GB_128GB\n",
       "31        6GB_128GB\n",
       "33       12GB_256GB\n",
       "36          (128GB)\n",
       "37           (64GB)\n",
       "38        8GB_128GB\n",
       "39        8GB_128GB\n",
       "40       12GB_256GB\n",
       "41        8GB_128GB\n",
       "42        6GB_128GB\n",
       "Name: Phone_features, dtype: object"
      ]
     },
     "execution_count": 24,
     "metadata": {},
     "output_type": "execute_result"
    }
   ],
   "source": [
    "df[\"Phone_features\"]"
   ]
  },
  {
   "cell_type": "code",
   "execution_count": 25,
   "id": "8ae54228",
   "metadata": {},
   "outputs": [
    {
     "data": {
      "text/html": [
       "<div>\n",
       "<style scoped>\n",
       "    .dataframe tbody tr th:only-of-type {\n",
       "        vertical-align: middle;\n",
       "    }\n",
       "\n",
       "    .dataframe tbody tr th {\n",
       "        vertical-align: top;\n",
       "    }\n",
       "\n",
       "    .dataframe thead th {\n",
       "        text-align: right;\n",
       "    }\n",
       "</style>\n",
       "<table border=\"1\" class=\"dataframe\">\n",
       "  <thead>\n",
       "    <tr style=\"text-align: right;\">\n",
       "      <th></th>\n",
       "      <th>Phone_Names</th>\n",
       "      <th>Price</th>\n",
       "      <th>No_of_buyers</th>\n",
       "      <th>Phone_features</th>\n",
       "    </tr>\n",
       "  </thead>\n",
       "  <tbody>\n",
       "    <tr>\n",
       "      <th>0</th>\n",
       "      <td>Mi 11X 5G Cosmic Black 6GB RAM 128GB ROM | SD ...</td>\n",
       "      <td>27999</td>\n",
       "      <td>11617</td>\n",
       "      <td>6GB_128GB</td>\n",
       "    </tr>\n",
       "    <tr>\n",
       "      <th>2</th>\n",
       "      <td>Vivo Y73 (Diamond Flare, 8GB RAM, 128GB Storag...</td>\n",
       "      <td>20990</td>\n",
       "      <td>1410</td>\n",
       "      <td>8GB_128GB</td>\n",
       "    </tr>\n",
       "    <tr>\n",
       "      <th>3</th>\n",
       "      <td>Vivo Y33s (Mirror Black, 8GB RAM, 128GB Storag...</td>\n",
       "      <td>18990</td>\n",
       "      <td>293</td>\n",
       "      <td>8GB_128GB</td>\n",
       "    </tr>\n",
       "    <tr>\n",
       "      <th>4</th>\n",
       "      <td>Vivo Y72 5G (Prism Magic, 8GB RAM, 128GB Stora...</td>\n",
       "      <td>20990</td>\n",
       "      <td>193</td>\n",
       "      <td>8GB_128GB</td>\n",
       "    </tr>\n",
       "    <tr>\n",
       "      <th>5</th>\n",
       "      <td>Vivo Y21 (Midnight Blue, 4GB RAM, 128GB Storag...</td>\n",
       "      <td>15490</td>\n",
       "      <td>319</td>\n",
       "      <td>4GB_128GB</td>\n",
       "    </tr>\n",
       "  </tbody>\n",
       "</table>\n",
       "</div>"
      ],
      "text/plain": [
       "                                         Phone_Names  Price  No_of_buyers  \\\n",
       "0  Mi 11X 5G Cosmic Black 6GB RAM 128GB ROM | SD ...  27999         11617   \n",
       "2  Vivo Y73 (Diamond Flare, 8GB RAM, 128GB Storag...  20990          1410   \n",
       "3  Vivo Y33s (Mirror Black, 8GB RAM, 128GB Storag...  18990           293   \n",
       "4  Vivo Y72 5G (Prism Magic, 8GB RAM, 128GB Stora...  20990           193   \n",
       "5  Vivo Y21 (Midnight Blue, 4GB RAM, 128GB Storag...  15490           319   \n",
       "\n",
       "  Phone_features  \n",
       "0      6GB_128GB  \n",
       "2      8GB_128GB  \n",
       "3      8GB_128GB  \n",
       "4      8GB_128GB  \n",
       "5      4GB_128GB  "
      ]
     },
     "execution_count": 25,
     "metadata": {},
     "output_type": "execute_result"
    }
   ],
   "source": [
    "df.head()"
   ]
  },
  {
   "cell_type": "code",
   "execution_count": 26,
   "id": "a0fc67bd",
   "metadata": {},
   "outputs": [
    {
     "data": {
      "text/plain": [
       "(Renewed) OnePlus 9 Pro 5G (Stellar Black, 8GB RAM, 128GB Storage)                                                                    1\n",
       "Samsung Galaxy A22 5G (Gray, 8GB RAM, 128GB Storage) with No Cost EMI/Additional Exchange Offers                                      1\n",
       "Vivo Y53s (Deap Sea Blue, 8GB RAM, 128GB Storage) with No Cost EMI/Additional Exchange Offers                                         1\n",
       "Vivo V21e 5G (Sunset Jazz, 8GB RAM, 128GB Storage) with No Cost EMI/Additional Exchange Offers                                        1\n",
       "Apple iPhone XR (128GB) - White                                                                                                       1\n",
       "Mi 10i 5G (Atlantic Blue, 6GB RAM, 128GB Storage) - 108MP Quad Camera | Snapdragon 750G Processor                                     1\n",
       "Vivo Y21 (Midnight Blue, 4GB RAM, 128GB Storage) with No Cost EMI/Additional Exchange Offers                                          1\n",
       "Vivo Y21 (Diamond Glow, 4GB RAM, 128GB Storage) with No Cost EMI/Additional Exchange Offers                                           1\n",
       "Samsung Galaxy A52 (Blue, 8GB RAM, 128GB Storage) with No Cost EMI/Additional Exchange Offers                                         1\n",
       "Apple iPhone XR (64GB) - White                                                                                                        1\n",
       "Oppo Reno 6 Pro 5G (Stellar Black, 12GB RAM, 256GB Storage), Medium (CPH2249)                                                         1\n",
       "Samsung Galaxy M32 5G (Sky Blue, 6GB RAM, 128GB Storage)                                                                              1\n",
       "Realme GT 5G Master Edition (Luna White, 8GB RAM, 128GB Storage)                                                                      1\n",
       "(Renewed) OnePlus 9 Pro 5G (Pine Green, 12GB RAM, 256GB Storage)                                                                      1\n",
       "Vivo Y72 5G (Prism Magic, 8GB RAM, 128GB Storage) with No Cost EMI/Additional Exchange Offers                                         1\n",
       "Apple iPhone XR (64GB) - Coral                                                                                                        1\n",
       "Samsung Galaxy A12 (Black, 6GB RAM, 128GB Storage) with No Cost EMI/Additional Exchange Offers                                        1\n",
       "Vivo Y33s (Mirror Black, 8GB RAM, 128GB Storage) with No Cost EMI/Additional Exchange Offers                                          1\n",
       "(Renewed) OnePlus Nord 2 5G (Gray Sierra, 12GB RAM, 256GB Storage)                                                                    1\n",
       "Apple iPhone XR (128GB) - Blue                                                                                                        1\n",
       "Samsung Galaxy M32 5G (Slate Black, 6GB RAM, 128GB Storage)                                                                           1\n",
       "OnePlus Nord CE 5G (Blue Void, 8GB RAM, 128GB Storage)                                                                                1\n",
       "Mi 11X 5G (Celestial Silver 6GB RAM 128GB ROM | SD 870 | DisplayMate A+ rated E4 AMOLED | Upto 18 Months No Cost EMI)                 1\n",
       "iQOO 7 5G (Storm Black, 8GB RAM, 128GB Storage) | 3GB Extended RAM | Upto 12 Months No Cost EMI | 6 Months Free Screen Replacement    1\n",
       "Apple iPhone XR (128GB) - (Product) RED                                                                                               1\n",
       "Apple iPhone XR (64GB) - Black                                                                                                        1\n",
       "OnePlus Nord 2 5G (Green Woods, 12GB RAM, 256GB Storage)                                                                              1\n",
       "Apple iPhone 11 (64GB) - Black                                                                                                        1\n",
       "Mi 11X 5G (Lunar White 8GB RAM 128GB ROM | SD 870 | DisplayMate A+ rated E4 AMOLED)                                                   1\n",
       "Mi 11X 5G (Lunar White 6GB RAM 128GB ROM | SD 870 | DisplayMate A+ rated E4 AMOLED | Upto 18 Months No Cost EMI)                      1\n",
       "Samsung Galaxy A12 (Blue, 6GB RAM, 128GB Storage) with No Cost EMI/Additional Exchange Offers                                         1\n",
       "Vivo Y73 (Diamond Flare, 8GB RAM, 128GB Storage) with No Cost EMI/Additional Exchange Offers                                          1\n",
       "Mi 11X 5G Cosmic Black 6GB RAM 128GB ROM | SD 870 | DisplayMate A+ rated E4 AMOLED | Upto 18 Months No Cost EMI                       1\n",
       "Apple iPhone 11 (128GB) - Yellow                                                                                                      1\n",
       "OnePlus 9 Pro 5G (Morning Mist, 8GB RAM, 128GB Storage)                                                                               1\n",
       "Name: Phone_Names, dtype: int64"
      ]
     },
     "execution_count": 26,
     "metadata": {},
     "output_type": "execute_result"
    }
   ],
   "source": [
    "df.Phone_Names.value_counts()"
   ]
  },
  {
   "cell_type": "code",
   "execution_count": 27,
   "id": "89b1c218",
   "metadata": {},
   "outputs": [],
   "source": [
    "def name_strip(item):\n",
    "    s=''\n",
    "    for i in range (len(item)):\n",
    "        if item[i]=='(' and i>1 :\n",
    "            break\n",
    "        else:\n",
    "            s+=item[i]\n",
    "    return s"
   ]
  },
  {
   "cell_type": "code",
   "execution_count": 28,
   "id": "8c13aa08",
   "metadata": {},
   "outputs": [
    {
     "data": {
      "text/html": [
       "<div>\n",
       "<style scoped>\n",
       "    .dataframe tbody tr th:only-of-type {\n",
       "        vertical-align: middle;\n",
       "    }\n",
       "\n",
       "    .dataframe tbody tr th {\n",
       "        vertical-align: top;\n",
       "    }\n",
       "\n",
       "    .dataframe thead th {\n",
       "        text-align: right;\n",
       "    }\n",
       "</style>\n",
       "<table border=\"1\" class=\"dataframe\">\n",
       "  <thead>\n",
       "    <tr style=\"text-align: right;\">\n",
       "      <th></th>\n",
       "      <th>Phone_Names</th>\n",
       "      <th>Price</th>\n",
       "      <th>No_of_buyers</th>\n",
       "      <th>Phone_features</th>\n",
       "    </tr>\n",
       "  </thead>\n",
       "  <tbody>\n",
       "    <tr>\n",
       "      <th>0</th>\n",
       "      <td>Mi 11X 5G Cosmic Black 6GB RAM 128GB ROM | SD ...</td>\n",
       "      <td>27999</td>\n",
       "      <td>11617</td>\n",
       "      <td>6GB_128GB</td>\n",
       "    </tr>\n",
       "    <tr>\n",
       "      <th>2</th>\n",
       "      <td>Vivo Y73</td>\n",
       "      <td>20990</td>\n",
       "      <td>1410</td>\n",
       "      <td>8GB_128GB</td>\n",
       "    </tr>\n",
       "    <tr>\n",
       "      <th>3</th>\n",
       "      <td>Vivo Y33s</td>\n",
       "      <td>18990</td>\n",
       "      <td>293</td>\n",
       "      <td>8GB_128GB</td>\n",
       "    </tr>\n",
       "    <tr>\n",
       "      <th>4</th>\n",
       "      <td>Vivo Y72 5G</td>\n",
       "      <td>20990</td>\n",
       "      <td>193</td>\n",
       "      <td>8GB_128GB</td>\n",
       "    </tr>\n",
       "    <tr>\n",
       "      <th>5</th>\n",
       "      <td>Vivo Y21</td>\n",
       "      <td>15490</td>\n",
       "      <td>319</td>\n",
       "      <td>4GB_128GB</td>\n",
       "    </tr>\n",
       "  </tbody>\n",
       "</table>\n",
       "</div>"
      ],
      "text/plain": [
       "                                         Phone_Names  Price  No_of_buyers  \\\n",
       "0  Mi 11X 5G Cosmic Black 6GB RAM 128GB ROM | SD ...  27999         11617   \n",
       "2                                          Vivo Y73   20990          1410   \n",
       "3                                         Vivo Y33s   18990           293   \n",
       "4                                       Vivo Y72 5G   20990           193   \n",
       "5                                          Vivo Y21   15490           319   \n",
       "\n",
       "  Phone_features  \n",
       "0      6GB_128GB  \n",
       "2      8GB_128GB  \n",
       "3      8GB_128GB  \n",
       "4      8GB_128GB  \n",
       "5      4GB_128GB  "
      ]
     },
     "execution_count": 28,
     "metadata": {},
     "output_type": "execute_result"
    }
   ],
   "source": [
    "df[\"Phone_Names\"]=df[\"Phone_Names\"].apply(name_strip)\n",
    "df.head()"
   ]
  },
  {
   "cell_type": "code",
   "execution_count": 29,
   "id": "4f965adb",
   "metadata": {},
   "outputs": [
    {
     "data": {
      "text/plain": [
       "Apple iPhone XR                                                                                                    6\n",
       "Mi 11X 5G                                                                                                          3\n",
       "Vivo Y21                                                                                                           2\n",
       "Samsung Galaxy M32 5G                                                                                              2\n",
       "Apple iPhone 11                                                                                                    2\n",
       "Samsung Galaxy A12                                                                                                 2\n",
       "(Renewed) OnePlus 9 Pro 5G                                                                                         2\n",
       "Samsung Galaxy A22 5G                                                                                              1\n",
       "Vivo V21e 5G                                                                                                       1\n",
       "Vivo Y53s                                                                                                          1\n",
       "OnePlus 9 Pro 5G                                                                                                   1\n",
       "OnePlus Nord CE 5G                                                                                                 1\n",
       "Mi 11X 5G Cosmic Black 6GB RAM 128GB ROM | SD 870 | DisplayMate A+ rated E4 AMOLED | Upto 18 Months No Cost EMI    1\n",
       "Vivo Y72 5G                                                                                                        1\n",
       "OnePlus Nord 2 5G                                                                                                  1\n",
       "Realme GT 5G Master Edition                                                                                        1\n",
       "iQOO 7 5G                                                                                                          1\n",
       "Samsung Galaxy A52                                                                                                 1\n",
       "(Renewed) OnePlus Nord 2 5G                                                                                        1\n",
       "Oppo Reno 6 Pro 5G                                                                                                 1\n",
       "Mi 10i 5G                                                                                                          1\n",
       "Vivo Y73                                                                                                           1\n",
       "Vivo Y33s                                                                                                          1\n",
       "Name: Phone_Names, dtype: int64"
      ]
     },
     "execution_count": 29,
     "metadata": {},
     "output_type": "execute_result"
    }
   ],
   "source": [
    "df['Phone_Names'].value_counts()"
   ]
  },
  {
   "cell_type": "code",
   "execution_count": 30,
   "id": "12ed66d3",
   "metadata": {},
   "outputs": [],
   "source": [
    "df=df[~(df[\"Phone_Names\"]==\"Mi 11X 5G Cosmic Black 6GB RAM 128GB ROM | SD 870 | DisplayMate A+ rated E4 AMOLED | Upto 18 Months No Cost EMI\")]"
   ]
  },
  {
   "cell_type": "code",
   "execution_count": 31,
   "id": "bc3798f1",
   "metadata": {},
   "outputs": [
    {
     "data": {
      "text/plain": [
       "(34, 4)"
      ]
     },
     "execution_count": 31,
     "metadata": {},
     "output_type": "execute_result"
    }
   ],
   "source": [
    "df.shape"
   ]
  },
  {
   "cell_type": "code",
   "execution_count": 32,
   "id": "c2d35ef9",
   "metadata": {},
   "outputs": [],
   "source": [
    "df.reset_index(inplace=True)\n"
   ]
  },
  {
   "cell_type": "code",
   "execution_count": 33,
   "id": "7e720763",
   "metadata": {},
   "outputs": [
    {
     "data": {
      "text/html": [
       "<div>\n",
       "<style scoped>\n",
       "    .dataframe tbody tr th:only-of-type {\n",
       "        vertical-align: middle;\n",
       "    }\n",
       "\n",
       "    .dataframe tbody tr th {\n",
       "        vertical-align: top;\n",
       "    }\n",
       "\n",
       "    .dataframe thead th {\n",
       "        text-align: right;\n",
       "    }\n",
       "</style>\n",
       "<table border=\"1\" class=\"dataframe\">\n",
       "  <thead>\n",
       "    <tr style=\"text-align: right;\">\n",
       "      <th></th>\n",
       "      <th>Phone_Names</th>\n",
       "      <th>Price</th>\n",
       "      <th>No_of_buyers</th>\n",
       "      <th>Phone_features</th>\n",
       "    </tr>\n",
       "  </thead>\n",
       "  <tbody>\n",
       "    <tr>\n",
       "      <th>0</th>\n",
       "      <td>Vivo Y73</td>\n",
       "      <td>20990</td>\n",
       "      <td>1410</td>\n",
       "      <td>8GB_128GB</td>\n",
       "    </tr>\n",
       "    <tr>\n",
       "      <th>1</th>\n",
       "      <td>Vivo Y33s</td>\n",
       "      <td>18990</td>\n",
       "      <td>293</td>\n",
       "      <td>8GB_128GB</td>\n",
       "    </tr>\n",
       "    <tr>\n",
       "      <th>2</th>\n",
       "      <td>Vivo Y72 5G</td>\n",
       "      <td>20990</td>\n",
       "      <td>193</td>\n",
       "      <td>8GB_128GB</td>\n",
       "    </tr>\n",
       "    <tr>\n",
       "      <th>3</th>\n",
       "      <td>Vivo Y21</td>\n",
       "      <td>15490</td>\n",
       "      <td>319</td>\n",
       "      <td>4GB_128GB</td>\n",
       "    </tr>\n",
       "    <tr>\n",
       "      <th>4</th>\n",
       "      <td>Samsung Galaxy M32 5G</td>\n",
       "      <td>16999</td>\n",
       "      <td>70</td>\n",
       "      <td>6GB_128GB</td>\n",
       "    </tr>\n",
       "    <tr>\n",
       "      <th>5</th>\n",
       "      <td>Samsung Galaxy M32 5G</td>\n",
       "      <td>16999</td>\n",
       "      <td>1410</td>\n",
       "      <td>6GB_128GB</td>\n",
       "    </tr>\n",
       "    <tr>\n",
       "      <th>6</th>\n",
       "      <td>Vivo Y21</td>\n",
       "      <td>15490</td>\n",
       "      <td>1410</td>\n",
       "      <td>4GB_128GB</td>\n",
       "    </tr>\n",
       "    <tr>\n",
       "      <th>7</th>\n",
       "      <td>OnePlus Nord CE 5G</td>\n",
       "      <td>24999</td>\n",
       "      <td>70</td>\n",
       "      <td>8GB_128GB</td>\n",
       "    </tr>\n",
       "    <tr>\n",
       "      <th>8</th>\n",
       "      <td>Vivo V21e 5G</td>\n",
       "      <td>24990</td>\n",
       "      <td>51971</td>\n",
       "      <td>8GB_128GB</td>\n",
       "    </tr>\n",
       "    <tr>\n",
       "      <th>9</th>\n",
       "      <td>OnePlus Nord 2 5G</td>\n",
       "      <td>34999</td>\n",
       "      <td>747</td>\n",
       "      <td>12GB_256GB</td>\n",
       "    </tr>\n",
       "  </tbody>\n",
       "</table>\n",
       "</div>"
      ],
      "text/plain": [
       "              Phone_Names  Price  No_of_buyers Phone_features\n",
       "0               Vivo Y73   20990          1410      8GB_128GB\n",
       "1              Vivo Y33s   18990           293      8GB_128GB\n",
       "2            Vivo Y72 5G   20990           193      8GB_128GB\n",
       "3               Vivo Y21   15490           319      4GB_128GB\n",
       "4  Samsung Galaxy M32 5G   16999            70      6GB_128GB\n",
       "5  Samsung Galaxy M32 5G   16999          1410      6GB_128GB\n",
       "6               Vivo Y21   15490          1410      4GB_128GB\n",
       "7     OnePlus Nord CE 5G   24999            70      8GB_128GB\n",
       "8           Vivo V21e 5G   24990         51971      8GB_128GB\n",
       "9      OnePlus Nord 2 5G   34999           747     12GB_256GB"
      ]
     },
     "execution_count": 33,
     "metadata": {},
     "output_type": "execute_result"
    }
   ],
   "source": [
    "df.drop(columns=\"index\", inplace=True)\n",
    "df.head(10)"
   ]
  },
  {
   "cell_type": "code",
   "execution_count": 34,
   "id": "9fb480c1",
   "metadata": {},
   "outputs": [],
   "source": [
    "df.to_csv(\"Cleanse_data_for_Analysis.csv\")"
   ]
  },
  {
   "cell_type": "code",
   "execution_count": null,
   "id": "23d23e6d",
   "metadata": {},
   "outputs": [],
   "source": []
  },
  {
   "cell_type": "code",
   "execution_count": null,
   "id": "b99e76bc",
   "metadata": {},
   "outputs": [],
   "source": []
  },
  {
   "cell_type": "code",
   "execution_count": null,
   "id": "bafc2d87",
   "metadata": {},
   "outputs": [],
   "source": []
  },
  {
   "cell_type": "code",
   "execution_count": null,
   "id": "fcdba6e9",
   "metadata": {},
   "outputs": [],
   "source": []
  },
  {
   "cell_type": "code",
   "execution_count": null,
   "id": "ce5919e7",
   "metadata": {},
   "outputs": [],
   "source": []
  },
  {
   "cell_type": "code",
   "execution_count": null,
   "id": "49c97509",
   "metadata": {},
   "outputs": [],
   "source": []
  }
 ],
 "metadata": {
  "kernelspec": {
   "display_name": "Python 3",
   "language": "python",
   "name": "python3"
  },
  "language_info": {
   "codemirror_mode": {
    "name": "ipython",
    "version": 3
   },
   "file_extension": ".py",
   "mimetype": "text/x-python",
   "name": "python",
   "nbconvert_exporter": "python",
   "pygments_lexer": "ipython3",
   "version": "3.8.8"
  }
 },
 "nbformat": 4,
 "nbformat_minor": 5
}
