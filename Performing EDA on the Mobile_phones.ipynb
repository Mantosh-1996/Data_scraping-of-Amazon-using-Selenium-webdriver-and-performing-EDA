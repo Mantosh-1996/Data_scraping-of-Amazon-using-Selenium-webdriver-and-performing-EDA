{
 "cells": [
  {
   "cell_type": "code",
   "execution_count": 1,
   "id": "5ee78a39",
   "metadata": {},
   "outputs": [],
   "source": [
    "import pandas as pd\n",
    "import numpy as np\n",
    "import seaborn as sns\n",
    "import matplotlib.pyplot as plt"
   ]
  },
  {
   "cell_type": "code",
   "execution_count": 2,
   "id": "a88f31bc",
   "metadata": {},
   "outputs": [
    {
     "data": {
      "text/html": [
       "<div>\n",
       "<style scoped>\n",
       "    .dataframe tbody tr th:only-of-type {\n",
       "        vertical-align: middle;\n",
       "    }\n",
       "\n",
       "    .dataframe tbody tr th {\n",
       "        vertical-align: top;\n",
       "    }\n",
       "\n",
       "    .dataframe thead th {\n",
       "        text-align: right;\n",
       "    }\n",
       "</style>\n",
       "<table border=\"1\" class=\"dataframe\">\n",
       "  <thead>\n",
       "    <tr style=\"text-align: right;\">\n",
       "      <th></th>\n",
       "      <th>Unnamed: 0</th>\n",
       "      <th>Phone_Names</th>\n",
       "      <th>Price</th>\n",
       "      <th>No_of_buyers</th>\n",
       "      <th>Phone_features</th>\n",
       "    </tr>\n",
       "  </thead>\n",
       "  <tbody>\n",
       "    <tr>\n",
       "      <th>0</th>\n",
       "      <td>2</td>\n",
       "      <td>Vivo Y73</td>\n",
       "      <td>20990</td>\n",
       "      <td>1410</td>\n",
       "      <td>8GB_128GB</td>\n",
       "    </tr>\n",
       "    <tr>\n",
       "      <th>1</th>\n",
       "      <td>3</td>\n",
       "      <td>Vivo Y33s</td>\n",
       "      <td>18990</td>\n",
       "      <td>293</td>\n",
       "      <td>8GB_128GB</td>\n",
       "    </tr>\n",
       "    <tr>\n",
       "      <th>2</th>\n",
       "      <td>4</td>\n",
       "      <td>Vivo Y72 5G</td>\n",
       "      <td>20990</td>\n",
       "      <td>193</td>\n",
       "      <td>8GB_128GB</td>\n",
       "    </tr>\n",
       "    <tr>\n",
       "      <th>3</th>\n",
       "      <td>5</td>\n",
       "      <td>Vivo Y21</td>\n",
       "      <td>15490</td>\n",
       "      <td>319</td>\n",
       "      <td>4GB_128GB</td>\n",
       "    </tr>\n",
       "    <tr>\n",
       "      <th>4</th>\n",
       "      <td>6</td>\n",
       "      <td>Samsung Galaxy M32 5G</td>\n",
       "      <td>16999</td>\n",
       "      <td>70</td>\n",
       "      <td>6GB_128GB</td>\n",
       "    </tr>\n",
       "  </tbody>\n",
       "</table>\n",
       "</div>"
      ],
      "text/plain": [
       "   Unnamed: 0             Phone_Names  Price  No_of_buyers Phone_features\n",
       "0           2               Vivo Y73   20990          1410      8GB_128GB\n",
       "1           3              Vivo Y33s   18990           293      8GB_128GB\n",
       "2           4            Vivo Y72 5G   20990           193      8GB_128GB\n",
       "3           5               Vivo Y21   15490           319      4GB_128GB\n",
       "4           6  Samsung Galaxy M32 5G   16999            70      6GB_128GB"
      ]
     },
     "execution_count": 2,
     "metadata": {},
     "output_type": "execute_result"
    }
   ],
   "source": [
    "df= pd.read_csv(\"Cleansed_data.csv\")\n",
    "df.head()"
   ]
  },
  {
   "cell_type": "markdown",
   "id": "0ec6d4a1",
   "metadata": {},
   "source": [
    "## Performing Few feature engineering\n",
    "\n",
    "**Creating few columns**\n",
    "\n",
    "**Then we can proceed with the analysis**\n"
   ]
  },
  {
   "cell_type": "code",
   "execution_count": 3,
   "id": "6d20a628",
   "metadata": {},
   "outputs": [
    {
     "data": {
      "text/html": [
       "<div>\n",
       "<style scoped>\n",
       "    .dataframe tbody tr th:only-of-type {\n",
       "        vertical-align: middle;\n",
       "    }\n",
       "\n",
       "    .dataframe tbody tr th {\n",
       "        vertical-align: top;\n",
       "    }\n",
       "\n",
       "    .dataframe thead th {\n",
       "        text-align: right;\n",
       "    }\n",
       "</style>\n",
       "<table border=\"1\" class=\"dataframe\">\n",
       "  <thead>\n",
       "    <tr style=\"text-align: right;\">\n",
       "      <th></th>\n",
       "      <th>Phone_Names</th>\n",
       "      <th>Price</th>\n",
       "      <th>No_of_buyers</th>\n",
       "      <th>Phone_features</th>\n",
       "    </tr>\n",
       "  </thead>\n",
       "  <tbody>\n",
       "    <tr>\n",
       "      <th>0</th>\n",
       "      <td>Vivo Y73</td>\n",
       "      <td>20990</td>\n",
       "      <td>1410</td>\n",
       "      <td>8GB_128GB</td>\n",
       "    </tr>\n",
       "    <tr>\n",
       "      <th>1</th>\n",
       "      <td>Vivo Y33s</td>\n",
       "      <td>18990</td>\n",
       "      <td>293</td>\n",
       "      <td>8GB_128GB</td>\n",
       "    </tr>\n",
       "    <tr>\n",
       "      <th>2</th>\n",
       "      <td>Vivo Y72 5G</td>\n",
       "      <td>20990</td>\n",
       "      <td>193</td>\n",
       "      <td>8GB_128GB</td>\n",
       "    </tr>\n",
       "    <tr>\n",
       "      <th>3</th>\n",
       "      <td>Vivo Y21</td>\n",
       "      <td>15490</td>\n",
       "      <td>319</td>\n",
       "      <td>4GB_128GB</td>\n",
       "    </tr>\n",
       "    <tr>\n",
       "      <th>4</th>\n",
       "      <td>Samsung Galaxy M32 5G</td>\n",
       "      <td>16999</td>\n",
       "      <td>70</td>\n",
       "      <td>6GB_128GB</td>\n",
       "    </tr>\n",
       "  </tbody>\n",
       "</table>\n",
       "</div>"
      ],
      "text/plain": [
       "              Phone_Names  Price  No_of_buyers Phone_features\n",
       "0               Vivo Y73   20990          1410      8GB_128GB\n",
       "1              Vivo Y33s   18990           293      8GB_128GB\n",
       "2            Vivo Y72 5G   20990           193      8GB_128GB\n",
       "3               Vivo Y21   15490           319      4GB_128GB\n",
       "4  Samsung Galaxy M32 5G   16999            70      6GB_128GB"
      ]
     },
     "execution_count": 3,
     "metadata": {},
     "output_type": "execute_result"
    }
   ],
   "source": [
    "df.drop(columns=\"Unnamed: 0\", inplace=True)\n",
    "df.head()"
   ]
  },
  {
   "cell_type": "code",
   "execution_count": 8,
   "id": "6dc5bbff",
   "metadata": {},
   "outputs": [],
   "source": [
    "df[\"company\"] = df[\"Phone_Names\"].apply(lambda x: x.split()[0])"
   ]
  },
  {
   "cell_type": "code",
   "execution_count": 11,
   "id": "40e70c78",
   "metadata": {},
   "outputs": [
    {
     "name": "stdout",
     "output_type": "stream",
     "text": [
      "<class 'pandas.core.frame.DataFrame'>\n",
      "RangeIndex: 34 entries, 0 to 33\n",
      "Data columns (total 5 columns):\n",
      " #   Column          Non-Null Count  Dtype \n",
      "---  ------          --------------  ----- \n",
      " 0   Phone_Names     34 non-null     object\n",
      " 1   Price           34 non-null     int64 \n",
      " 2   No_of_buyers    34 non-null     int64 \n",
      " 3   Phone_features  34 non-null     object\n",
      " 4   company         34 non-null     object\n",
      "dtypes: int64(2), object(3)\n",
      "memory usage: 1.5+ KB\n"
     ]
    }
   ],
   "source": [
    "df.info()"
   ]
  },
  {
   "cell_type": "markdown",
   "id": "3e38c3a2",
   "metadata": {},
   "source": [
    "**lets do some analysis what phones are the best for users and should be in local market to challenge Amazon**"
   ]
  },
  {
   "cell_type": "code",
   "execution_count": 15,
   "id": "cf5b9ed3",
   "metadata": {},
   "outputs": [
    {
     "data": {
      "text/plain": [
       "<AxesSubplot:xlabel='No_of_buyers', ylabel='Price'>"
      ]
     },
     "execution_count": 15,
     "metadata": {},
     "output_type": "execute_result"
    },
    {
     "data": {
      "image/png": "[encoded data removed]",
      "text/plain": [
       "<Figure size 432x288 with 1 Axes>"
      ]
     },
     "metadata": {
      "needs_background": "light"
     },
     "output_type": "display_data"
    }
   ],
   "source": [
    "sns.scatterplot(data=df, x=\"No_of_buyers\", y= \"Price\")"
   ]
  },
  {
   "cell_type": "markdown",
   "id": "d0527734",
   "metadata": {},
   "source": [
    "## We can inference that maximum of the buyers buy a phone between 0 to 40K"
   ]
  },
  {
   "cell_type": "code",
   "execution_count": 31,
   "id": "235d6fd0",
   "metadata": {},
   "outputs": [
    {
     "data": {
      "image/png": "[encoded data removed]",
      "text/plain": [
       "<Figure size 1080x648 with 1 Axes>"
      ]
     },
     "metadata": {
      "needs_background": "light"
     },
     "output_type": "display_data"
    }
   ],
   "source": [
    "plt.figure(figsize=(15,9))\n",
    "g= sns.barplot(data=df, x=\"Phone_features\", y=\"No_of_buyers\", hue= \"company\")\n",
    "plt.legend(bbox_to_anchor=(1.05, 1), loc='upper left')\n",
    "plt.show()"
   ]
  },
  {
   "cell_type": "markdown",
   "id": "55dc0a20",
   "metadata": {},
   "source": [
    "## MI has the maximum market share, we can see Iphones of 64GB has very less sales so does oneplus with 12GB 128GB and samsung excels in 128GB and 8GB category"
   ]
  },
  {
   "cell_type": "code",
   "execution_count": 37,
   "id": "32db89f0",
   "metadata": {},
   "outputs": [
    {
     "data": {
      "image/png": "[encoded data removed]",
      "text/plain": [
       "<Figure size 720x360 with 2 Axes>"
      ]
     },
     "metadata": {
      "needs_background": "light"
     },
     "output_type": "display_data"
    }
   ],
   "source": [
    "plt.figure(figsize=(10,5))\n",
    "plt.subplot(1,2,1)\n",
    "df.Price.groupby(df.company).median().plot.bar()\n",
    "plt.grid()\n",
    "plt.subplot(1,2,2)\n",
    "df.No_of_buyers.groupby(df.company).median().plot.bar()\n",
    "plt.grid()\n"
   ]
  },
  {
   "cell_type": "markdown",
   "id": "f925f9a6",
   "metadata": {},
   "source": [
    "## Does it mean Since MI phones are cheap that is the reason the sell is maximum..? lets see some correlation"
   ]
  },
  {
   "cell_type": "code",
   "execution_count": 41,
   "id": "ad6b18aa",
   "metadata": {},
   "outputs": [
    {
     "data": {
      "text/html": [
       "<div>\n",
       "<style scoped>\n",
       "    .dataframe tbody tr th:only-of-type {\n",
       "        vertical-align: middle;\n",
       "    }\n",
       "\n",
       "    .dataframe tbody tr th {\n",
       "        vertical-align: top;\n",
       "    }\n",
       "\n",
       "    .dataframe thead th {\n",
       "        text-align: right;\n",
       "    }\n",
       "</style>\n",
       "<table border=\"1\" class=\"dataframe\">\n",
       "  <thead>\n",
       "    <tr style=\"text-align: right;\">\n",
       "      <th></th>\n",
       "      <th>No_of_buyers</th>\n",
       "      <th>Price</th>\n",
       "    </tr>\n",
       "  </thead>\n",
       "  <tbody>\n",
       "    <tr>\n",
       "      <th>No_of_buyers</th>\n",
       "      <td>1.000000</td>\n",
       "      <td>0.015427</td>\n",
       "    </tr>\n",
       "    <tr>\n",
       "      <th>Price</th>\n",
       "      <td>0.015427</td>\n",
       "      <td>1.000000</td>\n",
       "    </tr>\n",
       "  </tbody>\n",
       "</table>\n",
       "</div>"
      ],
      "text/plain": [
       "              No_of_buyers     Price\n",
       "No_of_buyers      1.000000  0.015427\n",
       "Price             0.015427  1.000000"
      ]
     },
     "execution_count": 41,
     "metadata": {},
     "output_type": "execute_result"
    }
   ],
   "source": [
    "df[[\"No_of_buyers\", \"Price\"]].corr()"
   ]
  },
  {
   "cell_type": "markdown",
   "id": "86e075be",
   "metadata": {},
   "source": [
    "**We can neither confirm or deny any correlation after looking at this values**\n",
    "\n",
    "**But we can clearly see once price = 1/100*No_of Buyers and vise Versa.** \n",
    "\n",
    "**There is a strong causation of this**"
   ]
  },
  {
   "cell_type": "markdown",
   "id": "6cfaf706",
   "metadata": {},
   "source": [
    "## we need more data to analyze to get more insights going back to the drawing board to fetch more mobile phone data using Selenium"
   ]
  },
  {
   "cell_type": "code",
   "execution_count": null,
   "id": "eaa78749",
   "metadata": {},
   "outputs": [],
   "source": []
  }
 ],
 "metadata": {
  "kernelspec": {
   "display_name": "Python 3",
   "language": "python",
   "name": "python3"
  },
  "language_info": {
   "codemirror_mode": {
    "name": "ipython",
    "version": 3
   },
   "file_extension": ".py",
   "mimetype": "text/x-python",
   "name": "python",
   "nbconvert_exporter": "python",
   "pygments_lexer": "ipython3",
   "version": "3.8.8"
  }
 },
 "nbformat": 4,
 "nbformat_minor": 5
}
